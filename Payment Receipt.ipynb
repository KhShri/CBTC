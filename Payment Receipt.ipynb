{
 "cells": [
  {
   "cell_type": "code",
   "execution_count": 2,
   "id": "73635699",
   "metadata": {},
   "outputs": [
    {
     "name": "stdout",
     "output_type": "stream",
     "text": [
      "Enter customer name: Khushi Shrivastava\n",
      "Enter amount paid: 5000\n",
      "Enter receipt number: 052329\n",
      "Payment receipt saved as payment_receipt_052329.pdf\n"
     ]
    }
   ],
   "source": [
    "from reportlab.lib.pagesizes import letter\n",
    "from reportlab.pdfgen import canvas\n",
    "from datetime import datetime\n",
    "def create_payment_receipt(customer_name, amount_paid, receipt_number):\n",
    "    pdf_file_name = f\"payment_receipt_{receipt_number}.pdf\"\n",
    "    c = canvas.Canvas(pdf_file_name, pagesize=letter)\n",
    "    c.setFont(\"Helvetica\", 12)\n",
    "    c.drawString(100, 750, \"Payment Receipt\")\n",
    "    c.line(100, 745, 500, 745)\n",
    "    c.drawString(100, 725, f\"Date: {datetime.now().strftime('%Y-%m-%d %H:%M:%S')}\")\n",
    "    c.drawString(100, 705, f\"Customer Name: {customer_name}\")\n",
    "    c.drawString(100, 685, f\"Amount Paid: ${amount_paid:.2f}\")\n",
    "    c.drawString(100, 665, f\"Receipt Number: {receipt_number}\")\n",
    "    c.drawString(100, 625, \"Thank you for your payment!\")\n",
    "    c.save()\n",
    "    print(f\"Payment receipt saved as {pdf_file_name}\")\n",
    "if __name__ == \"__main__\":\n",
    "    customer_name = input(\"Enter customer name: \")\n",
    "    amount_paid = float(input(\"Enter amount paid: \"))\n",
    "    receipt_number = input(\"Enter receipt number: \")\n",
    "    create_payment_receipt(customer_name, amount_paid, receipt_number)\n"
   ]
  },
  {
   "cell_type": "code",
   "execution_count": null,
   "id": "ed9d4164",
   "metadata": {},
   "outputs": [],
   "source": []
  }
 ],
 "metadata": {
  "kernelspec": {
   "display_name": "Python 3 (ipykernel)",
   "language": "python",
   "name": "python3"
  },
  "language_info": {
   "codemirror_mode": {
    "name": "ipython",
    "version": 3
   },
   "file_extension": ".py",
   "mimetype": "text/x-python",
   "name": "python",
   "nbconvert_exporter": "python",
   "pygments_lexer": "ipython3",
   "version": "3.9.13"
  }
 },
 "nbformat": 4,
 "nbformat_minor": 5
}
