{
 "cells": [
  {
   "cell_type": "code",
   "execution_count": null,
   "id": "482a83a1",
   "metadata": {},
   "outputs": [
    {
     "name": "stdout",
     "output_type": "stream",
     "text": [
      "Welcome to the Mastermind game!\n",
      "Enter the number of digits for the secret number: 5\n",
      "Player 1 has chosen a 5-digit number.\n",
      "Player 2, make a guess: 5\n",
      "Player 1's hint: 0 correct, 0 misplaced.\n",
      "Player 1, make a guess: 2\n",
      "Player 2's hint: 0 correct, 0 misplaced.\n",
      "Player 2, make a guess: 8\n",
      "Player 1's hint: 0 correct, 1 misplaced.\n",
      "Player 1, make a guess: 5\n",
      "Player 2's hint: 0 correct, 0 misplaced.\n",
      "Player 2, make a guess: 3\n",
      "Player 1's hint: 0 correct, 1 misplaced.\n",
      "Player 1, make a guess: 8\n",
      "Player 2's hint: 0 correct, 1 misplaced.\n"
     ]
    }
   ],
   "source": [
    "import random\n",
    "def generate_random_number(num_digits):\n",
    "    return ''.join(random.sample('0123456789', num_digits))\n",
    "def get_feedback(secret_number, guess):\n",
    "    correct_digits = sum(1 for i, j in zip(secret_number, guess) if i == j)\n",
    "    common_digits = len(set(secret_number) & set(guess))\n",
    "    return correct_digits, common_digits - correct_digits\n",
    "def play_mastermind():\n",
    "    print(\"Welcome to the Mastermind game!\")\n",
    "\n",
    "    num_digits = int(input(\"Enter the number of digits for the secret number: \"))\n",
    "    secret_number = generate_random_number(num_digits)\n",
    "\n",
    "    print(\"Player 1 has chosen a {}-digit number.\".format(num_digits))\n",
    "\n",
    "    attempts_player1 = 0\n",
    "    attempts_player2 = 0\n",
    "\n",
    "    while True:\n",
    "        guess_player2 = input(\"Player 2, make a guess: \")\n",
    "        attempts_player2 += 1\n",
    "\n",
    "        if guess_player2 == secret_number:\n",
    "            print(\"Player 2 is the Mastermind! They guessed the number in {} attempts.\".format(attempts_player2))\n",
    "            break\n",
    "\n",
    "        correct, misplaced = get_feedback(secret_number, guess_player2)\n",
    "        print(\"Player 1's hint: {} correct, {} misplaced.\".format(correct, misplaced))\n",
    "\n",
    "        guess_player1 = input(\"Player 1, make a guess: \")\n",
    "        attempts_player1 += 1\n",
    "\n",
    "        if guess_player1 == secret_number:\n",
    "            print(\"Player 1 is the Mastermind! They guessed the number in {} attempts.\".format(attempts_player1))\n",
    "            break\n",
    "\n",
    "        correct, misplaced = get_feedback(secret_number, guess_player1)\n",
    "        print(\"Player 2's hint: {} correct, {} misplaced.\".format(correct, misplaced))\n",
    "\n",
    "    if attempts_player1 < attempts_player2:\n",
    "        print(\"Player 1 is the overall Mastermind!\")\n",
    "    elif attempts_player2 < attempts_player1:\n",
    "        print(\"Player 2 is the overall Mastermind!\")\n",
    "    else:\n",
    "        print(\"It's a tie!\")\n",
    "\n",
    "if __name__ == \"__main__\":\n",
    "    play_mastermind()\n"
   ]
  },
  {
   "cell_type": "code",
   "execution_count": null,
   "id": "b407d05e",
   "metadata": {},
   "outputs": [],
   "source": []
  }
 ],
 "metadata": {
  "kernelspec": {
   "display_name": "Python 3 (ipykernel)",
   "language": "python",
   "name": "python3"
  },
  "language_info": {
   "codemirror_mode": {
    "name": "ipython",
    "version": 3
   },
   "file_extension": ".py",
   "mimetype": "text/x-python",
   "name": "python",
   "nbconvert_exporter": "python",
   "pygments_lexer": "ipython3",
   "version": "3.9.13"
  }
 },
 "nbformat": 4,
 "nbformat_minor": 5
}
